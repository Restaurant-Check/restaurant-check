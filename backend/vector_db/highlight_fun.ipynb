{
 "cells": [
  {
   "cell_type": "code",
   "id": "initial_id",
   "metadata": {
    "collapsed": true,
    "ExecuteTime": {
     "end_time": "2024-05-25T08:18:56.414684Z",
     "start_time": "2024-05-25T08:18:55.482151Z"
    }
   },
   "source": [
    "import json\n",
    "from vector_db import RestaurantVectorDB\n",
    "\n",
    "vecdb = RestaurantVectorDB('data/dummy_menu_db_tmp')\n",
    "with open('example_menu_dummy.json', 'r') as f:\n",
    "    dummy_menu_data = json.load(f)\n",
    "    \n",
    "dummy_menu_data"
   ],
   "outputs": [
    {
     "data": {
      "text/plain": [
       "{'restaurant_name': 'Aetna Ristorante',\n",
       " 'menu': [{'category': 'Soups',\n",
       "   'items': [{'name': 'Zuppa di Pomodoro',\n",
       "     'description': 'Tomato cream soup',\n",
       "     'price': '7.50'},\n",
       "    {'name': 'Minestrone', 'description': 'Vegetable soup', 'price': '7.50'},\n",
       "    {'name': 'Zuppa di Pesce',\n",
       "     'description': 'Seafood soup with crostini',\n",
       "     'price': '12.50'}]},\n",
       "  {'category': 'Starters',\n",
       "   'items': [{'name': 'Antipasto Frutti di Mare',\n",
       "     'description': 'Seafood salad',\n",
       "     'price': '15.00'},\n",
       "    {'name': 'Mozzarella Caprese',\n",
       "     'description': 'Mozzarella with tomatoes and basil',\n",
       "     'price': '10.50'},\n",
       "    {'name': 'Carpaccio di Salmone',\n",
       "     'description': 'Salmon carpaccio with arugula and pink peppercorns',\n",
       "     'price': '14.50'}]},\n",
       "  {'category': 'Salads',\n",
       "   'items': [{'name': 'Insalata Fagioli',\n",
       "     'description': 'Bean salad with tuna and onions',\n",
       "     'price': '11.50'},\n",
       "    {'name': 'Insalata di Pomodoro',\n",
       "     'description': 'Tomato salad with onions',\n",
       "     'price': '8.50'},\n",
       "    {'name': 'Insalata di Cetrioli',\n",
       "     'description': 'Cucumber salad',\n",
       "     'price': '7.00'}]},\n",
       "  {'category': 'Pasta',\n",
       "   'items': [{'name': 'Spaghetti alla Bolognese',\n",
       "     'description': 'Spaghetti with fresh minced meat sauce',\n",
       "     'price': '11.50'},\n",
       "    {'name': 'Spaghetti Carbonara',\n",
       "     'description': 'Spaghetti with egg, bacon, and cream',\n",
       "     'price': '11.50'},\n",
       "    {'name': 'Spaghetti Frutti di Mare',\n",
       "     'description': 'Spaghetti with seafood, white wine, garlic, and tomato sauce',\n",
       "     'price': '15.50'}]},\n",
       "  {'category': 'Meat Dishes',\n",
       "   'items': [{'name': 'Cotoletta alla Primavera',\n",
       "     'description': 'Breaded turkey cutlet with arugula, tomatoes, and garlic',\n",
       "     'price': '23.50'},\n",
       "    {'name': 'Tagliata alla griglia',\n",
       "     'description': 'Sliced grilled beef tenderloin on arugula with shaved Parmesan',\n",
       "     'price': '26.50'},\n",
       "    {'name': 'Saltimbocca alla Romana',\n",
       "     'description': 'With Parma ham and sage in white wine sauce',\n",
       "     'price': '24.50'}]},\n",
       "  {'category': 'Fish Dishes',\n",
       "   'items': [{'name': 'Calamari alla Griglia',\n",
       "     'description': 'Grilled squid',\n",
       "     'price': '21.50'},\n",
       "    {'name': 'Salmone alla Griglia',\n",
       "     'description': 'Grilled salmon',\n",
       "     'price': '25.50'},\n",
       "    {'name': 'Gamberoni alla Griglia',\n",
       "     'description': 'Grilled prawns',\n",
       "     'price': '24.50'}]},\n",
       "  {'category': 'Pizza',\n",
       "   'items': [{'name': 'Margherita',\n",
       "     'description': 'Tomato sauce, cheese',\n",
       "     'price': '9.50'},\n",
       "    {'name': 'Funghi', 'description': 'Mushrooms', 'price': '11.00'},\n",
       "    {'name': 'Salami', 'description': 'Salami', 'price': '11.00'}]},\n",
       "  {'category': 'Desserts',\n",
       "   'items': [{'name': 'Tiramisú', 'description': 'Tiramisu', 'price': '7.90'},\n",
       "    {'name': 'Panna Cotta', 'description': 'Panna cotta', 'price': '7.90'},\n",
       "    {'name': 'Dessert misto',\n",
       "     'description': 'Mixed dessert',\n",
       "     'price': '16.50'}]}]}"
      ]
     },
     "execution_count": 1,
     "metadata": {},
     "output_type": "execute_result"
    }
   ],
   "execution_count": 1
  },
  {
   "metadata": {
    "ExecuteTime": {
     "end_time": "2024-05-25T08:23:04.474306Z",
     "start_time": "2024-05-25T08:22:57.676018Z"
    }
   },
   "cell_type": "code",
   "source": [
    "for category in dummy_menu_data['menu']:\n",
    "    for item in category['items']:\n",
    "        item_str = category['category'] + ': ' + item['name'] + ' ' + item['description'] + ' | ' + item['price']\n",
    "        vecdb.insert(item_str, log=True)"
   ],
   "id": "6493807e4d19a01c",
   "outputs": [
    {
     "name": "stdout",
     "output_type": "stream",
     "text": [
      "Inserted:  Soups: Zuppa di Pomodoro Tomato cream soup | 7.50\n",
      "Inserted:  Soups: Minestrone Vegetable soup | 7.50\n",
      "Inserted:  Soups: Zuppa di Pesce Seafood soup with crostini | 12.50\n",
      "Inserted:  Starters: Antipasto Frutti di Mare Seafood salad | 15.00\n",
      "Inserted:  Starters: Mozzarella Caprese Mozzarella with tomatoes and basil | 10.50\n",
      "Inserted:  Starters: Carpaccio di Salmone Salmon carpaccio with arugula and pink peppercorns | 14.50\n",
      "Inserted:  Salads: Insalata Fagioli Bean salad with tuna and onions | 11.50\n",
      "Inserted:  Salads: Insalata di Pomodoro Tomato salad with onions | 8.50\n",
      "Inserted:  Salads: Insalata di Cetrioli Cucumber salad | 7.00\n",
      "Inserted:  Pasta: Spaghetti alla Bolognese Spaghetti with fresh minced meat sauce | 11.50\n",
      "Inserted:  Pasta: Spaghetti Carbonara Spaghetti with egg, bacon, and cream | 11.50\n",
      "Inserted:  Pasta: Spaghetti Frutti di Mare Spaghetti with seafood, white wine, garlic, and tomato sauce | 15.50\n",
      "Inserted:  Meat Dishes: Cotoletta alla Primavera Breaded turkey cutlet with arugula, tomatoes, and garlic | 23.50\n",
      "Inserted:  Meat Dishes: Tagliata alla griglia Sliced grilled beef tenderloin on arugula with shaved Parmesan | 26.50\n",
      "Inserted:  Meat Dishes: Saltimbocca alla Romana With Parma ham and sage in white wine sauce | 24.50\n",
      "Inserted:  Fish Dishes: Calamari alla Griglia Grilled squid | 21.50\n",
      "Inserted:  Fish Dishes: Salmone alla Griglia Grilled salmon | 25.50\n",
      "Inserted:  Fish Dishes: Gamberoni alla Griglia Grilled prawns | 24.50\n",
      "Inserted:  Pizza: Margherita Tomato sauce, cheese | 9.50\n",
      "Inserted:  Pizza: Funghi Mushrooms | 11.00\n",
      "Inserted:  Pizza: Salami Salami | 11.00\n",
      "Inserted:  Desserts: Tiramisú Tiramisu | 7.90\n",
      "Inserted:  Desserts: Panna Cotta Panna cotta | 7.90\n",
      "Inserted:  Desserts: Dessert misto Mixed dessert | 16.50\n"
     ]
    }
   ],
   "execution_count": 12
  },
  {
   "metadata": {
    "ExecuteTime": {
     "end_time": "2024-05-25T08:34:03.319498Z",
     "start_time": "2024-05-25T08:34:03.048778Z"
    }
   },
   "cell_type": "code",
   "source": [
    "# lets find the top 3 items that are most similar to the query\n",
    "\n",
    "query = 'food'\n",
    "top_n = 3\n",
    "vecdb.query(query, top_n)"
   ],
   "id": "d66b9d15d1de0f0c",
   "outputs": [
    {
     "data": {
      "text/plain": [
       "[('Pasta: Spaghetti Frutti di Mare Spaghetti with seafood, white wine, garlic, and tomato sauce | 15.50',\n",
       "  1.3340958),\n",
       " ('Soups: Zuppa di Pesce Seafood soup with crostini | 12.50', 1.3350568),\n",
       " ('Pizza: Funghi Mushrooms | 11.00', 1.3390685)]"
      ]
     },
     "execution_count": 23,
     "metadata": {},
     "output_type": "execute_result"
    }
   ],
   "execution_count": 23
  },
  {
   "metadata": {},
   "cell_type": "code",
   "outputs": [],
   "execution_count": null,
   "source": "",
   "id": "f9c1306c01367f7b"
  }
 ],
 "metadata": {
  "kernelspec": {
   "display_name": "Python 3",
   "language": "python",
   "name": "python3"
  },
  "language_info": {
   "codemirror_mode": {
    "name": "ipython",
    "version": 2
   },
   "file_extension": ".py",
   "mimetype": "text/x-python",
   "name": "python",
   "nbconvert_exporter": "python",
   "pygments_lexer": "ipython2",
   "version": "2.7.6"
  }
 },
 "nbformat": 4,
 "nbformat_minor": 5
}
