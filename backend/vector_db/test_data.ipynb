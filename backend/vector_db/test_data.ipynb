{
 "cells": [
  {
   "metadata": {
    "ExecuteTime": {
     "end_time": "2024-05-24T17:30:32.027188Z",
     "start_time": "2024-05-24T17:30:32.010989Z"
    }
   },
   "cell_type": "code",
   "source": [
    "dummy_data = open('dummy_data.json', 'r').read()\n",
    "print(dummy_data)"
   ],
   "id": "69371f1cd09129b0",
   "outputs": [
    {
     "name": "stdout",
     "output_type": "stream",
     "text": [
      "[\n",
      "  {\n",
      "    \"name\": \"Ocean's Plate\",\n",
      "    \"location\": \"123 Beach Ave, Miami, FL\",\n",
      "    \"rating\": 4.5,\n",
      "    \"cuisine\": \"Seafood\",\n",
      "    \"menu\": \"Menu: Grilled Salmon $19.99, Lobster Roll $15.99, Seafood Pasta $18.99\",\n",
      "    \"reviews\": [\n",
      "      \"Absolutely loved the grilled salmon! Fresh and flavorful.\",\n",
      "      \"The lobster roll was a bit pricey but worth every penny. Highly recommend!\",\n",
      "      \"Service was slow, but the seafood pasta made up for the wait.\",\n",
      "      \"Great atmosphere and friendly staff. Will definitely return!\",\n",
      "      \"Enjoyed a dinner by the beach, perfect setting and delicious food.\"\n",
      "    ]\n",
      "  },\n",
      "  {\n",
      "    \"name\": \"Mountain View Grill\",\n",
      "    \"location\": \"456 Hill Rd, Denver, CO\",\n",
      "    \"rating\": 4.7,\n",
      "    \"cuisine\": \"American Grill\",\n",
      "    \"menu\": \"Menu: BBQ Ribs $12.99, Bison Burger $11.99, Vegetarian Chili $9.99\",\n",
      "    \"reviews\": [\n",
      "      \"The BBQ ribs are to die for! Best in the city.\",\n",
      "      \"Loved the bison burger, a great hearty option for meat lovers.\",\n",
      "      \"The vegetarian chili was surprisingly good, with just the right amount of spice.\",\n",
      "      \"Fantastic view and even better food.\",\n",
      "      \"Service could be better, but the food makes up for it.\"\n",
      "    ]\n",
      "  },\n",
      "  {\n",
      "    \"name\": \"Urban Eats\",\n",
      "    \"location\": \"789 City St, New York, NY\",\n",
      "    \"rating\": 4.3,\n",
      "    \"cuisine\": \"Fast Casual\",\n",
      "    \"menu\": \"Menu: Chicken Wrap $7.99, Veggie Burger $8.99, Steak Sandwich $13.99\",\n",
      "    \"reviews\": [\n",
      "      \"Chicken wrap was okay, not the best I've had.\",\n",
      "      \"Really enjoyed the veggie burger, great flavors!\",\n",
      "      \"Steak sandwich was a bit tough. Could improve.\",\n",
      "      \"Good prices and decent service. A solid lunch spot.\",\n",
      "      \"Not my favorite place, but it's good for a quick bite.\"\n",
      "    ]\n",
      "  },\n",
      "  {\n",
      "    \"name\": \"Garden Bistro\",\n",
      "    \"location\": \"234 Park Blvd, San Francisco, CA\",\n",
      "    \"rating\": 4.6,\n",
      "    \"cuisine\": \"Italian\",\n",
      "    \"menu\": \"Menu: Tomato Basil Soup $5.99, Caesar Salad $6.99, Mushroom Risotto $14.99\",\n",
      "    \"reviews\": [\n",
      "      \"The mushroom risotto is amazing! Full of flavor.\",\n",
      "      \"Really nice tomato basil soup, felt like homemade.\",\n",
      "      \"Loved the Caesar salad, fresh and crispy.\",\n",
      "      \"A gem in the city with authentic Italian flavors.\",\n",
      "      \"Great for a romantic evening or a family dinner.\"\n",
      "    ]\n",
      "  },\n",
      "  {\n",
      "    \"name\": \"Spice Journey\",\n",
      "    \"location\": \"567 Curry Ave, Houston, TX\",\n",
      "    \"rating\": 4.8,\n",
      "    \"cuisine\": \"Indian\",\n",
      "    \"menu\": \"Menu: Tandoori Chicken $10.99, Lamb Vindaloo $12.99, Paneer Tikka $9.99\",\n",
      "    \"reviews\": [\n",
      "      \"Tandoori chicken was perfectly spiced and juicy. Absolutely loved it!\",\n",
      "      \"The lamb vindaloo has just the right level of heat. Spicy and delicious!\",\n",
      "      \"Paneer tikka was alright, but could use a bit more flavor.\",\n",
      "      \"Excellent service and authentic Indian cuisine. Highly recommend!\",\n",
      "      \"Best Indian food I've had in a long time. A must-visit!\"\n",
      "    ]\n",
      "  }\n",
      "]\n",
      "\n"
     ]
    }
   ],
   "execution_count": 1
  },
  {
   "metadata": {
    "ExecuteTime": {
     "end_time": "2024-05-24T17:30:33.166227Z",
     "start_time": "2024-05-24T17:30:32.801005Z"
    }
   },
   "cell_type": "code",
   "source": [
    "# init database\n",
    "from vector_db import RestaurantVectorDB\n",
    "db = RestaurantVectorDB(\"./dummy_data_db\")"
   ],
   "id": "54014f50e6eb6c4f",
   "outputs": [],
   "execution_count": 2
  },
  {
   "metadata": {
    "ExecuteTime": {
     "end_time": "2024-05-24T17:30:36.982573Z",
     "start_time": "2024-05-24T17:30:34.459681Z"
    }
   },
   "cell_type": "code",
   "source": [
    "# insert each entry of the dummy data\n",
    "import json\n",
    "for entry in json.loads(dummy_data):\n",
    "    print(\"Inserting \", entry[\"name\"])\n",
    "    db.insert(str(entry))\n",
    "    \n",
    "\n",
    "print(\"\\n\\n\\n\\n\")\n",
    "print(db.knowledge_base)\n",
    "db.save()"
   ],
   "id": "c427b4eff040187a",
   "outputs": [
    {
     "name": "stdout",
     "output_type": "stream",
     "text": [
      "Inserting  Ocean's Plate\n",
      "Inserted:  {'name': \"Ocean's Plate\", 'location': '123 Beach Ave, Miami, FL', 'rating': 4.5, 'cuisine': 'Seafood', 'menu': 'Menu: Grilled Salmon $19.99, Lobster Roll $15.99, Seafood Pasta $18.99', 'reviews': ['Absolutely loved the grilled salmon! Fresh and flavorful.', 'The lobster roll was a bit pricey but worth every penny. Highly recommend!', 'Service was slow, but the seafood pasta made up for the wait.', 'Great atmosphere and friendly staff. Will definitely return!', 'Enjoyed a dinner by the beach, perfect setting and delicious food.']}\n",
      "Inserting  Mountain View Grill\n",
      "Inserted:  {'name': 'Mountain View Grill', 'location': '456 Hill Rd, Denver, CO', 'rating': 4.7, 'cuisine': 'American Grill', 'menu': 'Menu: BBQ Ribs $12.99, Bison Burger $11.99, Vegetarian Chili $9.99', 'reviews': ['The BBQ ribs are to die for! Best in the city.', 'Loved the bison burger, a great hearty option for meat lovers.', 'The vegetarian chili was surprisingly good, with just the right amount of spice.', 'Fantastic view and even better food.', 'Service could be better, but the food makes up for it.']}\n",
      "Inserting  Urban Eats\n",
      "Inserted:  {'name': 'Urban Eats', 'location': '789 City St, New York, NY', 'rating': 4.3, 'cuisine': 'Fast Casual', 'menu': 'Menu: Chicken Wrap $7.99, Veggie Burger $8.99, Steak Sandwich $13.99', 'reviews': [\"Chicken wrap was okay, not the best I've had.\", 'Really enjoyed the veggie burger, great flavors!', 'Steak sandwich was a bit tough. Could improve.', 'Good prices and decent service. A solid lunch spot.', \"Not my favorite place, but it's good for a quick bite.\"]}\n",
      "Inserting  Garden Bistro\n",
      "Inserted:  {'name': 'Garden Bistro', 'location': '234 Park Blvd, San Francisco, CA', 'rating': 4.6, 'cuisine': 'Italian', 'menu': 'Menu: Tomato Basil Soup $5.99, Caesar Salad $6.99, Mushroom Risotto $14.99', 'reviews': ['The mushroom risotto is amazing! Full of flavor.', 'Really nice tomato basil soup, felt like homemade.', 'Loved the Caesar salad, fresh and crispy.', 'A gem in the city with authentic Italian flavors.', 'Great for a romantic evening or a family dinner.']}\n",
      "Inserting  Spice Journey\n",
      "Inserted:  {'name': 'Spice Journey', 'location': '567 Curry Ave, Houston, TX', 'rating': 4.8, 'cuisine': 'Indian', 'menu': 'Menu: Tandoori Chicken $10.99, Lamb Vindaloo $12.99, Paneer Tikka $9.99', 'reviews': ['Tandoori chicken was perfectly spiced and juicy. Absolutely loved it!', 'The lamb vindaloo has just the right level of heat. Spicy and delicious!', 'Paneer tikka was alright, but could use a bit more flavor.', 'Excellent service and authentic Indian cuisine. Highly recommend!', \"Best Indian food I've had in a long time. A must-visit!\"]}\n",
      "\n",
      "\n",
      "\n",
      "\n",
      "\n",
      "['{\\'name\\': \"Ocean\\'s Plate\", \\'location\\': \\'123 Beach Ave, Miami, FL\\', \\'rating\\': 4.5, \\'cuisine\\': \\'Seafood\\', \\'menu\\': \\'Menu: Grilled Salmon $19.99, Lobster Roll $15.99, Seafood Pasta $18.99\\', \\'reviews\\': [\\'Absolutely loved the grilled salmon! Fresh and flavorful.\\', \\'The lobster roll was a bit pricey but worth every penny. Highly recommend!\\', \\'Service was slow, but the seafood pasta made up for the wait.\\', \\'Great atmosphere and friendly staff. Will definitely return!\\', \\'Enjoyed a dinner by the beach, perfect setting and delicious food.\\']}', \"{'name': 'Mountain View Grill', 'location': '456 Hill Rd, Denver, CO', 'rating': 4.7, 'cuisine': 'American Grill', 'menu': 'Menu: BBQ Ribs $12.99, Bison Burger $11.99, Vegetarian Chili $9.99', 'reviews': ['The BBQ ribs are to die for! Best in the city.', 'Loved the bison burger, a great hearty option for meat lovers.', 'The vegetarian chili was surprisingly good, with just the right amount of spice.', 'Fantastic view and even better food.', 'Service could be better, but the food makes up for it.']}\", '{\\'name\\': \\'Urban Eats\\', \\'location\\': \\'789 City St, New York, NY\\', \\'rating\\': 4.3, \\'cuisine\\': \\'Fast Casual\\', \\'menu\\': \\'Menu: Chicken Wrap $7.99, Veggie Burger $8.99, Steak Sandwich $13.99\\', \\'reviews\\': [\"Chicken wrap was okay, not the best I\\'ve had.\", \\'Really enjoyed the veggie burger, great flavors!\\', \\'Steak sandwich was a bit tough. Could improve.\\', \\'Good prices and decent service. A solid lunch spot.\\', \"Not my favorite place, but it\\'s good for a quick bite.\"]}', \"{'name': 'Garden Bistro', 'location': '234 Park Blvd, San Francisco, CA', 'rating': 4.6, 'cuisine': 'Italian', 'menu': 'Menu: Tomato Basil Soup $5.99, Caesar Salad $6.99, Mushroom Risotto $14.99', 'reviews': ['The mushroom risotto is amazing! Full of flavor.', 'Really nice tomato basil soup, felt like homemade.', 'Loved the Caesar salad, fresh and crispy.', 'A gem in the city with authentic Italian flavors.', 'Great for a romantic evening or a family dinner.']}\", '{\\'name\\': \\'Spice Journey\\', \\'location\\': \\'567 Curry Ave, Houston, TX\\', \\'rating\\': 4.8, \\'cuisine\\': \\'Indian\\', \\'menu\\': \\'Menu: Tandoori Chicken $10.99, Lamb Vindaloo $12.99, Paneer Tikka $9.99\\', \\'reviews\\': [\\'Tandoori chicken was perfectly spiced and juicy. Absolutely loved it!\\', \\'The lamb vindaloo has just the right level of heat. Spicy and delicious!\\', \\'Paneer tikka was alright, but could use a bit more flavor.\\', \\'Excellent service and authentic Indian cuisine. Highly recommend!\\', \"Best Indian food I\\'ve had in a long time. A must-visit!\"]}']\n"
     ]
    }
   ],
   "execution_count": 3
  },
  {
   "metadata": {
    "ExecuteTime": {
     "end_time": "2024-05-24T17:31:12.176794Z",
     "start_time": "2024-05-24T17:31:12.146012Z"
    }
   },
   "cell_type": "code",
   "source": [
    "# reload database -> dont insert again (save api calls...)\n",
    "\n",
    "db = RestaurantVectorDB(\"./dummy_data_db\")"
   ],
   "id": "2f1ecdd7a8146d49",
   "outputs": [],
   "execution_count": 5
  },
  {
   "metadata": {
    "ExecuteTime": {
     "end_time": "2024-05-24T17:42:06.831791Z",
     "start_time": "2024-05-24T17:42:06.232197Z"
    }
   },
   "cell_type": "code",
   "source": "db.query(\"not pricey\")",
   "id": "85d1cf5ed0f4b06",
   "outputs": [
    {
     "data": {
      "text/plain": [
       "[(\"{'name': 'Garden Bistro', 'location': '234 Park Blvd, San Francisco, CA', 'rating': 4.6, 'cuisine': 'Italian', 'menu': 'Menu: Tomato Basil Soup $5.99, Caesar Salad $6.99, Mushroom Risotto $14.99', 'reviews': ['The mushroom risotto is amazing! Full of flavor.', 'Really nice tomato basil soup, felt like homemade.', 'Loved the Caesar salad, fresh and crispy.', 'A gem in the city with authentic Italian flavors.', 'Great for a romantic evening or a family dinner.']}\",\n",
       "  1.5558834),\n",
       " ('{\\'name\\': \\'Urban Eats\\', \\'location\\': \\'789 City St, New York, NY\\', \\'rating\\': 4.3, \\'cuisine\\': \\'Fast Casual\\', \\'menu\\': \\'Menu: Chicken Wrap $7.99, Veggie Burger $8.99, Steak Sandwich $13.99\\', \\'reviews\\': [\"Chicken wrap was okay, not the best I\\'ve had.\", \\'Really enjoyed the veggie burger, great flavors!\\', \\'Steak sandwich was a bit tough. Could improve.\\', \\'Good prices and decent service. A solid lunch spot.\\', \"Not my favorite place, but it\\'s good for a quick bite.\"]}',\n",
       "  1.557647),\n",
       " ('{\\'name\\': \"Ocean\\'s Plate\", \\'location\\': \\'123 Beach Ave, Miami, FL\\', \\'rating\\': 4.5, \\'cuisine\\': \\'Seafood\\', \\'menu\\': \\'Menu: Grilled Salmon $19.99, Lobster Roll $15.99, Seafood Pasta $18.99\\', \\'reviews\\': [\\'Absolutely loved the grilled salmon! Fresh and flavorful.\\', \\'The lobster roll was a bit pricey but worth every penny. Highly recommend!\\', \\'Service was slow, but the seafood pasta made up for the wait.\\', \\'Great atmosphere and friendly staff. Will definitely return!\\', \\'Enjoyed a dinner by the beach, perfect setting and delicious food.\\']}',\n",
       "  1.581738)]"
      ]
     },
     "execution_count": 17,
     "metadata": {},
     "output_type": "execute_result"
    }
   ],
   "execution_count": 17
  },
  {
   "metadata": {},
   "cell_type": "code",
   "outputs": [],
   "execution_count": null,
   "source": "",
   "id": "1672044f076ef9a"
  }
 ],
 "metadata": {
  "kernelspec": {
   "display_name": "Python 3",
   "language": "python",
   "name": "python3"
  },
  "language_info": {
   "codemirror_mode": {
    "name": "ipython",
    "version": 2
   },
   "file_extension": ".py",
   "mimetype": "text/x-python",
   "name": "python",
   "nbconvert_exporter": "python",
   "pygments_lexer": "ipython2",
   "version": "2.7.6"
  }
 },
 "nbformat": 4,
 "nbformat_minor": 5
}
